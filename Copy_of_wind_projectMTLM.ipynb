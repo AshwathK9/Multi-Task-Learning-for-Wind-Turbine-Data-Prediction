{
  "nbformat": 4,
  "nbformat_minor": 0,
  "metadata": {
    "colab": {
      "provenance": [],
      "authorship_tag": "ABX9TyP46LoRJ+BtYJcTWNpGEdcN",
      "include_colab_link": true
    },
    "kernelspec": {
      "name": "python3",
      "display_name": "Python 3"
    },
    "language_info": {
      "name": "python"
    }
  },
  "cells": [
    {
      "cell_type": "markdown",
      "metadata": {
        "id": "view-in-github",
        "colab_type": "text"
      },
      "source": [
        "<a href=\"https://colab.research.google.com/github/AshwathK9/Multi-Task-Learning-for-Wind-Turbine-Data-Prediction/blob/main/Copy_of_wind_projectMTLM.ipynb\" target=\"_parent\"><img src=\"https://colab.research.google.com/assets/colab-badge.svg\" alt=\"Open In Colab\"/></a>"
      ]
    },
    {
      "cell_type": "code",
      "source": [
        "!git --version"
      ],
      "metadata": {
        "colab": {
          "base_uri": "https://localhost:8080/"
        },
        "id": "V9_xNvKrk2Q0",
        "outputId": "ccbf0958-ace5-4d89-8853-22e4dea64ec0"
      },
      "execution_count": 47,
      "outputs": [
        {
          "output_type": "stream",
          "name": "stdout",
          "text": [
            "git version 2.34.1\n"
          ]
        }
      ]
    },
    {
      "cell_type": "code",
      "source": [
        "from google.colab import auth\n",
        "auth.authenticate_user()\n"
      ],
      "metadata": {
        "id": "MSMONPUzlwqe"
      },
      "execution_count": 48,
      "outputs": []
    },
    {
      "cell_type": "code",
      "source": [
        "!git config --global user.name \"AshwathK9\"\n",
        "!git config --global user.email \"AshwathGK96@gmail.com\"\n"
      ],
      "metadata": {
        "id": "C-2IoVZul-x0"
      },
      "execution_count": 49,
      "outputs": []
    },
    {
      "cell_type": "code",
      "source": [
        "! git clone https://github.com/AshwathK9/Multi-Task-Learning-for-Wind-Turbine-Data-Prediction.git"
      ],
      "metadata": {
        "colab": {
          "base_uri": "https://localhost:8080/"
        },
        "id": "muRPBLmql_FX",
        "outputId": "7f695cd7-9f67-4026-d3e8-938c36ff9276"
      },
      "execution_count": 50,
      "outputs": [
        {
          "output_type": "stream",
          "name": "stdout",
          "text": [
            "fatal: destination path 'Multi-Task-Learning-for-Wind-Turbine-Data-Prediction' already exists and is not an empty directory.\n"
          ]
        }
      ]
    },
    {
      "cell_type": "code",
      "source": [
        "!pwd"
      ],
      "metadata": {
        "colab": {
          "base_uri": "https://localhost:8080/"
        },
        "id": "qEjibhA7l_Ki",
        "outputId": "19197cce-1940-425e-e03b-1f9124250760"
      },
      "execution_count": 51,
      "outputs": [
        {
          "output_type": "stream",
          "name": "stdout",
          "text": [
            "/content\n"
          ]
        }
      ]
    },
    {
      "cell_type": "code",
      "source": [
        "!ls\n"
      ],
      "metadata": {
        "colab": {
          "base_uri": "https://localhost:8080/"
        },
        "id": "hqub6njsl_Ny",
        "outputId": "9e18ea44-c51e-4412-f359-e28b164dc1e3"
      },
      "execution_count": 52,
      "outputs": [
        {
          "output_type": "stream",
          "name": "stdout",
          "text": [
            "Multi-Task-Learning-for-Wind-Turbine-Data-Prediction  sample_data  wind_turbine_large_data.csv\n"
          ]
        }
      ]
    },
    {
      "cell_type": "code",
      "source": [
        "!mv Multi-Task-Learning-for-Wind-Turbine-Data-Prediction  sample_data"
      ],
      "metadata": {
        "colab": {
          "base_uri": "https://localhost:8080/"
        },
        "id": "aAr2hYPpl_Re",
        "outputId": "14a2d702-1e2f-4701-9c21-2d8a5122525b"
      },
      "execution_count": 55,
      "outputs": [
        {
          "output_type": "stream",
          "name": "stdout",
          "text": [
            "mv: cannot stat 'Multi-Task-Learning-for-Wind-Turbine-Data-Prediction': No such file or directory\n"
          ]
        }
      ]
    },
    {
      "cell_type": "code",
      "source": [
        "import numpy as np\n",
        "import pandas as pd\n",
        "import tensorflow as tf\n",
        "from tensorflow.keras.models import Model\n",
        "from tensorflow.keras.layers import Input, Dense, Dropout\n",
        "from tensorflow.keras.optimizers import Adam\n",
        "from sklearn.model_selection import train_test_split\n",
        "from sklearn.preprocessing import StandardScaler\n",
        "from sklearn.metrics import mean_squared_error, mean_absolute_error, accuracy_score\n",
        "import matplotlib.pyplot as plt\n"
      ],
      "metadata": {
        "id": "A_cbs56jr8SI"
      },
      "execution_count": 16,
      "outputs": []
    },
    {
      "cell_type": "code",
      "source": [
        "# Load Dataset\n",
        "data_path = \"/content/wind_turbine_large_data.csv\"\n",
        "data = pd.read_csv(data_path)\n"
      ],
      "metadata": {
        "id": "J6iru6KnsCcb"
      },
      "execution_count": 17,
      "outputs": []
    },
    {
      "cell_type": "code",
      "source": [
        "data.head()"
      ],
      "metadata": {
        "id": "QlbAeoi5tuGL",
        "outputId": "ce557cda-cc63-4b4f-a39b-cae23834e61b",
        "colab": {
          "base_uri": "https://localhost:8080/",
          "height": 226
        }
      },
      "execution_count": 18,
      "outputs": [
        {
          "output_type": "execute_result",
          "data": {
            "text/plain": [
              "   wind_speed  wind_direction          rpm  power_output  vibration  \\\n",
              "0   11.239883      134.391354  1258.553054   4196.692462   0.853086   \n",
              "1   23.915715       97.468082  1127.060133     19.099613   2.905775   \n",
              "2   19.103867      231.839836  1177.026851   1234.119346   1.457361   \n",
              "3   16.170487      147.144302   115.443770   3704.520281   4.614407   \n",
              "4    6.432410        9.139088   682.615597   1581.350749   2.957635   \n",
              "\n",
              "   temperature  predicted_wind_speed  predicted_wind_direction  \\\n",
              "0    37.064328              9.598447                150.815872   \n",
              "1    25.913780             13.434791                279.311423   \n",
              "2    14.848464              6.696441                121.943864   \n",
              "3    47.476752             10.805540                202.945357   \n",
              "4    22.466829             11.799626                 73.792524   \n",
              "\n",
              "   failure_probability fault_type  \n",
              "0             0.531340  generator  \n",
              "1             0.399720     sensor  \n",
              "2             0.953704  generator  \n",
              "3             0.642110  generator  \n",
              "4             0.298150      blade  "
            ],
            "text/html": [
              "\n",
              "  <div id=\"df-5152dee3-3296-410a-8707-8703741e1ea2\" class=\"colab-df-container\">\n",
              "    <div>\n",
              "<style scoped>\n",
              "    .dataframe tbody tr th:only-of-type {\n",
              "        vertical-align: middle;\n",
              "    }\n",
              "\n",
              "    .dataframe tbody tr th {\n",
              "        vertical-align: top;\n",
              "    }\n",
              "\n",
              "    .dataframe thead th {\n",
              "        text-align: right;\n",
              "    }\n",
              "</style>\n",
              "<table border=\"1\" class=\"dataframe\">\n",
              "  <thead>\n",
              "    <tr style=\"text-align: right;\">\n",
              "      <th></th>\n",
              "      <th>wind_speed</th>\n",
              "      <th>wind_direction</th>\n",
              "      <th>rpm</th>\n",
              "      <th>power_output</th>\n",
              "      <th>vibration</th>\n",
              "      <th>temperature</th>\n",
              "      <th>predicted_wind_speed</th>\n",
              "      <th>predicted_wind_direction</th>\n",
              "      <th>failure_probability</th>\n",
              "      <th>fault_type</th>\n",
              "    </tr>\n",
              "  </thead>\n",
              "  <tbody>\n",
              "    <tr>\n",
              "      <th>0</th>\n",
              "      <td>11.239883</td>\n",
              "      <td>134.391354</td>\n",
              "      <td>1258.553054</td>\n",
              "      <td>4196.692462</td>\n",
              "      <td>0.853086</td>\n",
              "      <td>37.064328</td>\n",
              "      <td>9.598447</td>\n",
              "      <td>150.815872</td>\n",
              "      <td>0.531340</td>\n",
              "      <td>generator</td>\n",
              "    </tr>\n",
              "    <tr>\n",
              "      <th>1</th>\n",
              "      <td>23.915715</td>\n",
              "      <td>97.468082</td>\n",
              "      <td>1127.060133</td>\n",
              "      <td>19.099613</td>\n",
              "      <td>2.905775</td>\n",
              "      <td>25.913780</td>\n",
              "      <td>13.434791</td>\n",
              "      <td>279.311423</td>\n",
              "      <td>0.399720</td>\n",
              "      <td>sensor</td>\n",
              "    </tr>\n",
              "    <tr>\n",
              "      <th>2</th>\n",
              "      <td>19.103867</td>\n",
              "      <td>231.839836</td>\n",
              "      <td>1177.026851</td>\n",
              "      <td>1234.119346</td>\n",
              "      <td>1.457361</td>\n",
              "      <td>14.848464</td>\n",
              "      <td>6.696441</td>\n",
              "      <td>121.943864</td>\n",
              "      <td>0.953704</td>\n",
              "      <td>generator</td>\n",
              "    </tr>\n",
              "    <tr>\n",
              "      <th>3</th>\n",
              "      <td>16.170487</td>\n",
              "      <td>147.144302</td>\n",
              "      <td>115.443770</td>\n",
              "      <td>3704.520281</td>\n",
              "      <td>4.614407</td>\n",
              "      <td>47.476752</td>\n",
              "      <td>10.805540</td>\n",
              "      <td>202.945357</td>\n",
              "      <td>0.642110</td>\n",
              "      <td>generator</td>\n",
              "    </tr>\n",
              "    <tr>\n",
              "      <th>4</th>\n",
              "      <td>6.432410</td>\n",
              "      <td>9.139088</td>\n",
              "      <td>682.615597</td>\n",
              "      <td>1581.350749</td>\n",
              "      <td>2.957635</td>\n",
              "      <td>22.466829</td>\n",
              "      <td>11.799626</td>\n",
              "      <td>73.792524</td>\n",
              "      <td>0.298150</td>\n",
              "      <td>blade</td>\n",
              "    </tr>\n",
              "  </tbody>\n",
              "</table>\n",
              "</div>\n",
              "    <div class=\"colab-df-buttons\">\n",
              "\n",
              "  <div class=\"colab-df-container\">\n",
              "    <button class=\"colab-df-convert\" onclick=\"convertToInteractive('df-5152dee3-3296-410a-8707-8703741e1ea2')\"\n",
              "            title=\"Convert this dataframe to an interactive table.\"\n",
              "            style=\"display:none;\">\n",
              "\n",
              "  <svg xmlns=\"http://www.w3.org/2000/svg\" height=\"24px\" viewBox=\"0 -960 960 960\">\n",
              "    <path d=\"M120-120v-720h720v720H120Zm60-500h600v-160H180v160Zm220 220h160v-160H400v160Zm0 220h160v-160H400v160ZM180-400h160v-160H180v160Zm440 0h160v-160H620v160ZM180-180h160v-160H180v160Zm440 0h160v-160H620v160Z\"/>\n",
              "  </svg>\n",
              "    </button>\n",
              "\n",
              "  <style>\n",
              "    .colab-df-container {\n",
              "      display:flex;\n",
              "      gap: 12px;\n",
              "    }\n",
              "\n",
              "    .colab-df-convert {\n",
              "      background-color: #E8F0FE;\n",
              "      border: none;\n",
              "      border-radius: 50%;\n",
              "      cursor: pointer;\n",
              "      display: none;\n",
              "      fill: #1967D2;\n",
              "      height: 32px;\n",
              "      padding: 0 0 0 0;\n",
              "      width: 32px;\n",
              "    }\n",
              "\n",
              "    .colab-df-convert:hover {\n",
              "      background-color: #E2EBFA;\n",
              "      box-shadow: 0px 1px 2px rgba(60, 64, 67, 0.3), 0px 1px 3px 1px rgba(60, 64, 67, 0.15);\n",
              "      fill: #174EA6;\n",
              "    }\n",
              "\n",
              "    .colab-df-buttons div {\n",
              "      margin-bottom: 4px;\n",
              "    }\n",
              "\n",
              "    [theme=dark] .colab-df-convert {\n",
              "      background-color: #3B4455;\n",
              "      fill: #D2E3FC;\n",
              "    }\n",
              "\n",
              "    [theme=dark] .colab-df-convert:hover {\n",
              "      background-color: #434B5C;\n",
              "      box-shadow: 0px 1px 3px 1px rgba(0, 0, 0, 0.15);\n",
              "      filter: drop-shadow(0px 1px 2px rgba(0, 0, 0, 0.3));\n",
              "      fill: #FFFFFF;\n",
              "    }\n",
              "  </style>\n",
              "\n",
              "    <script>\n",
              "      const buttonEl =\n",
              "        document.querySelector('#df-5152dee3-3296-410a-8707-8703741e1ea2 button.colab-df-convert');\n",
              "      buttonEl.style.display =\n",
              "        google.colab.kernel.accessAllowed ? 'block' : 'none';\n",
              "\n",
              "      async function convertToInteractive(key) {\n",
              "        const element = document.querySelector('#df-5152dee3-3296-410a-8707-8703741e1ea2');\n",
              "        const dataTable =\n",
              "          await google.colab.kernel.invokeFunction('convertToInteractive',\n",
              "                                                    [key], {});\n",
              "        if (!dataTable) return;\n",
              "\n",
              "        const docLinkHtml = 'Like what you see? Visit the ' +\n",
              "          '<a target=\"_blank\" href=https://colab.research.google.com/notebooks/data_table.ipynb>data table notebook</a>'\n",
              "          + ' to learn more about interactive tables.';\n",
              "        element.innerHTML = '';\n",
              "        dataTable['output_type'] = 'display_data';\n",
              "        await google.colab.output.renderOutput(dataTable, element);\n",
              "        const docLink = document.createElement('div');\n",
              "        docLink.innerHTML = docLinkHtml;\n",
              "        element.appendChild(docLink);\n",
              "      }\n",
              "    </script>\n",
              "  </div>\n",
              "\n",
              "\n",
              "<div id=\"df-4e3074a0-ec5b-455b-8d14-28985bec86b0\">\n",
              "  <button class=\"colab-df-quickchart\" onclick=\"quickchart('df-4e3074a0-ec5b-455b-8d14-28985bec86b0')\"\n",
              "            title=\"Suggest charts\"\n",
              "            style=\"display:none;\">\n",
              "\n",
              "<svg xmlns=\"http://www.w3.org/2000/svg\" height=\"24px\"viewBox=\"0 0 24 24\"\n",
              "     width=\"24px\">\n",
              "    <g>\n",
              "        <path d=\"M19 3H5c-1.1 0-2 .9-2 2v14c0 1.1.9 2 2 2h14c1.1 0 2-.9 2-2V5c0-1.1-.9-2-2-2zM9 17H7v-7h2v7zm4 0h-2V7h2v10zm4 0h-2v-4h2v4z\"/>\n",
              "    </g>\n",
              "</svg>\n",
              "  </button>\n",
              "\n",
              "<style>\n",
              "  .colab-df-quickchart {\n",
              "      --bg-color: #E8F0FE;\n",
              "      --fill-color: #1967D2;\n",
              "      --hover-bg-color: #E2EBFA;\n",
              "      --hover-fill-color: #174EA6;\n",
              "      --disabled-fill-color: #AAA;\n",
              "      --disabled-bg-color: #DDD;\n",
              "  }\n",
              "\n",
              "  [theme=dark] .colab-df-quickchart {\n",
              "      --bg-color: #3B4455;\n",
              "      --fill-color: #D2E3FC;\n",
              "      --hover-bg-color: #434B5C;\n",
              "      --hover-fill-color: #FFFFFF;\n",
              "      --disabled-bg-color: #3B4455;\n",
              "      --disabled-fill-color: #666;\n",
              "  }\n",
              "\n",
              "  .colab-df-quickchart {\n",
              "    background-color: var(--bg-color);\n",
              "    border: none;\n",
              "    border-radius: 50%;\n",
              "    cursor: pointer;\n",
              "    display: none;\n",
              "    fill: var(--fill-color);\n",
              "    height: 32px;\n",
              "    padding: 0;\n",
              "    width: 32px;\n",
              "  }\n",
              "\n",
              "  .colab-df-quickchart:hover {\n",
              "    background-color: var(--hover-bg-color);\n",
              "    box-shadow: 0 1px 2px rgba(60, 64, 67, 0.3), 0 1px 3px 1px rgba(60, 64, 67, 0.15);\n",
              "    fill: var(--button-hover-fill-color);\n",
              "  }\n",
              "\n",
              "  .colab-df-quickchart-complete:disabled,\n",
              "  .colab-df-quickchart-complete:disabled:hover {\n",
              "    background-color: var(--disabled-bg-color);\n",
              "    fill: var(--disabled-fill-color);\n",
              "    box-shadow: none;\n",
              "  }\n",
              "\n",
              "  .colab-df-spinner {\n",
              "    border: 2px solid var(--fill-color);\n",
              "    border-color: transparent;\n",
              "    border-bottom-color: var(--fill-color);\n",
              "    animation:\n",
              "      spin 1s steps(1) infinite;\n",
              "  }\n",
              "\n",
              "  @keyframes spin {\n",
              "    0% {\n",
              "      border-color: transparent;\n",
              "      border-bottom-color: var(--fill-color);\n",
              "      border-left-color: var(--fill-color);\n",
              "    }\n",
              "    20% {\n",
              "      border-color: transparent;\n",
              "      border-left-color: var(--fill-color);\n",
              "      border-top-color: var(--fill-color);\n",
              "    }\n",
              "    30% {\n",
              "      border-color: transparent;\n",
              "      border-left-color: var(--fill-color);\n",
              "      border-top-color: var(--fill-color);\n",
              "      border-right-color: var(--fill-color);\n",
              "    }\n",
              "    40% {\n",
              "      border-color: transparent;\n",
              "      border-right-color: var(--fill-color);\n",
              "      border-top-color: var(--fill-color);\n",
              "    }\n",
              "    60% {\n",
              "      border-color: transparent;\n",
              "      border-right-color: var(--fill-color);\n",
              "    }\n",
              "    80% {\n",
              "      border-color: transparent;\n",
              "      border-right-color: var(--fill-color);\n",
              "      border-bottom-color: var(--fill-color);\n",
              "    }\n",
              "    90% {\n",
              "      border-color: transparent;\n",
              "      border-bottom-color: var(--fill-color);\n",
              "    }\n",
              "  }\n",
              "</style>\n",
              "\n",
              "  <script>\n",
              "    async function quickchart(key) {\n",
              "      const quickchartButtonEl =\n",
              "        document.querySelector('#' + key + ' button');\n",
              "      quickchartButtonEl.disabled = true;  // To prevent multiple clicks.\n",
              "      quickchartButtonEl.classList.add('colab-df-spinner');\n",
              "      try {\n",
              "        const charts = await google.colab.kernel.invokeFunction(\n",
              "            'suggestCharts', [key], {});\n",
              "      } catch (error) {\n",
              "        console.error('Error during call to suggestCharts:', error);\n",
              "      }\n",
              "      quickchartButtonEl.classList.remove('colab-df-spinner');\n",
              "      quickchartButtonEl.classList.add('colab-df-quickchart-complete');\n",
              "    }\n",
              "    (() => {\n",
              "      let quickchartButtonEl =\n",
              "        document.querySelector('#df-4e3074a0-ec5b-455b-8d14-28985bec86b0 button');\n",
              "      quickchartButtonEl.style.display =\n",
              "        google.colab.kernel.accessAllowed ? 'block' : 'none';\n",
              "    })();\n",
              "  </script>\n",
              "</div>\n",
              "\n",
              "    </div>\n",
              "  </div>\n"
            ],
            "application/vnd.google.colaboratory.intrinsic+json": {
              "type": "dataframe",
              "variable_name": "data",
              "summary": "{\n  \"name\": \"data\",\n  \"rows\": 870,\n  \"fields\": [\n    {\n      \"column\": \"wind_speed\",\n      \"properties\": {\n        \"dtype\": \"number\",\n        \"std\": 6.452084401517334,\n        \"min\": 3.101904506101263,\n        \"max\": 24.993788812294877,\n        \"num_unique_values\": 870,\n        \"samples\": [\n          10.497677885566391,\n          6.100332949444779,\n          10.773749016573165\n        ],\n        \"semantic_type\": \"\",\n        \"description\": \"\"\n      }\n    },\n    {\n      \"column\": \"wind_direction\",\n      \"properties\": {\n        \"dtype\": \"number\",\n        \"std\": 105.47244664616527,\n        \"min\": 1.7783931363874617,\n        \"max\": 359.78894127744,\n        \"num_unique_values\": 870,\n        \"samples\": [\n          4.183394366916229,\n          6.620643557088024,\n          47.36436664581353\n        ],\n        \"semantic_type\": \"\",\n        \"description\": \"\"\n      }\n    },\n    {\n      \"column\": \"rpm\",\n      \"properties\": {\n        \"dtype\": \"number\",\n        \"std\": 402.4150118063056,\n        \"min\": 100.18857020627944,\n        \"max\": 1497.6865159501294,\n        \"num_unique_values\": 870,\n        \"samples\": [\n          1107.095071316822,\n          1025.91885549858,\n          930.510198150338\n        ],\n        \"semantic_type\": \"\",\n        \"description\": \"\"\n      }\n    },\n    {\n      \"column\": \"power_output\",\n      \"properties\": {\n        \"dtype\": \"number\",\n        \"std\": 1440.0911494375664,\n        \"min\": 0.0581737768307055,\n        \"max\": 4994.463060166453,\n        \"num_unique_values\": 870,\n        \"samples\": [\n          2858.7299157187435,\n          1838.9299387807648,\n          2172.016595033049\n        ],\n        \"semantic_type\": \"\",\n        \"description\": \"\"\n      }\n    },\n    {\n      \"column\": \"vibration\",\n      \"properties\": {\n        \"dtype\": \"number\",\n        \"std\": 1.4091464751875709,\n        \"min\": 0.1001505223423738,\n        \"max\": 4.997832745927149,\n        \"num_unique_values\": 870,\n        \"samples\": [\n          0.3053845619096619,\n          0.5054104945291306,\n          4.530792127897069\n        ],\n        \"semantic_type\": \"\",\n        \"description\": \"\"\n      }\n    },\n    {\n      \"column\": \"temperature\",\n      \"properties\": {\n        \"dtype\": \"number\",\n        \"std\": 17.26869790426898,\n        \"min\": -9.986377706904667,\n        \"max\": 49.816965044700176,\n        \"num_unique_values\": 870,\n        \"samples\": [\n          3.96370093493311,\n          14.926580035525376,\n          13.533067606012407\n        ],\n        \"semantic_type\": \"\",\n        \"description\": \"\"\n      }\n    },\n    {\n      \"column\": \"predicted_wind_speed\",\n      \"properties\": {\n        \"dtype\": \"number\",\n        \"std\": 6.355962038306335,\n        \"min\": 3.1360440980997266,\n        \"max\": 24.985706610388405,\n        \"num_unique_values\": 870,\n        \"samples\": [\n          12.268619395934024,\n          24.64165483060134,\n          9.634911137218134\n        ],\n        \"semantic_type\": \"\",\n        \"description\": \"\"\n      }\n    },\n    {\n      \"column\": \"predicted_wind_direction\",\n      \"properties\": {\n        \"dtype\": \"number\",\n        \"std\": 104.95974271100346,\n        \"min\": 0.514203508503619,\n        \"max\": 359.8058451814823,\n        \"num_unique_values\": 870,\n        \"samples\": [\n          70.14257699593108,\n          267.6070424052045,\n          147.70933987415833\n        ],\n        \"semantic_type\": \"\",\n        \"description\": \"\"\n      }\n    },\n    {\n      \"column\": \"failure_probability\",\n      \"properties\": {\n        \"dtype\": \"number\",\n        \"std\": 0.2841832970839213,\n        \"min\": 0.0002410046851345,\n        \"max\": 0.9989046997630768,\n        \"num_unique_values\": 870,\n        \"samples\": [\n          0.1684405511319152,\n          0.0400690863482666,\n          0.9989046997630768\n        ],\n        \"semantic_type\": \"\",\n        \"description\": \"\"\n      }\n    },\n    {\n      \"column\": \"fault_type\",\n      \"properties\": {\n        \"dtype\": \"category\",\n        \"num_unique_values\": 3,\n        \"samples\": [\n          \"generator\",\n          \"sensor\",\n          \"blade\"\n        ],\n        \"semantic_type\": \"\",\n        \"description\": \"\"\n      }\n    }\n  ]\n}"
            }
          },
          "metadata": {},
          "execution_count": 18
        }
      ]
    },
    {
      "cell_type": "code",
      "source": [
        "# Preprocessing\n",
        "features = ['wind_speed', 'wind_direction', 'rpm', 'power_output', 'vibration', 'temperature']\n",
        "label_control = ['predicted_wind_speed', 'predicted_wind_direction']  # Real-Time Control\n",
        "label_maintenance = ['failure_probability']  # Predictive Maintenance\n",
        "label_fault = ['fault_type']  # Fault Detection (categorical)\n",
        "\n",
        "X = data[features].values\n",
        "y_control = data[label_control].values\n",
        "y_maintenance = data[label_maintenance].values\n",
        "y_fault = pd.get_dummies(data[label_fault]).values"
      ],
      "metadata": {
        "id": "sVEuuXpwsEA7"
      },
      "execution_count": 19,
      "outputs": []
    },
    {
      "cell_type": "code",
      "source": [
        "# Split Data into Train and Test Sets\n",
        "X_train, X_test, y_control_train, y_control_test, y_maintenance_train, y_maintenance_test, y_fault_train, y_fault_test = train_test_split(\n",
        "    X, y_control, y_maintenance, y_fault, test_size=0.2, random_state=42\n",
        ")\n"
      ],
      "metadata": {
        "id": "Qma267A3sPGv"
      },
      "execution_count": 20,
      "outputs": []
    },
    {
      "cell_type": "code",
      "source": [
        "# Normalize Inputs\n",
        "scaler = StandardScaler()\n",
        "X_train = scaler.fit_transform(X_train)\n",
        "X_test = scaler.transform(X_test)\n"
      ],
      "metadata": {
        "id": "RNvlq5wcsUyP"
      },
      "execution_count": 21,
      "outputs": []
    },
    {
      "cell_type": "code",
      "source": [
        "# Define Multi-Task Learning Model\n",
        "input_layer = Input(shape=(X_train.shape[1],))\n",
        "\n",
        "# Shared Layers\n",
        "shared = Dense(128, activation=\"relu\")(input_layer)\n",
        "shared = Dropout(0.3)(shared)\n",
        "shared = Dense(64, activation=\"relu\")(shared)\n",
        "\n",
        "# Real-Time Control Head (Regression)\n",
        "control_output = Dense(64, activation=\"relu\")(shared)\n",
        "control_output = Dense(32, activation=\"relu\")(control_output)\n",
        "control_output = Dense(2, activation=\"linear\", name=\"control_output\")(control_output)\n",
        "\n",
        "# Predictive Maintenance Head (Regression)\n",
        "maintenance_output = Dense(64, activation=\"relu\")(shared)\n",
        "maintenance_output = Dense(32, activation=\"relu\")(maintenance_output)\n",
        "maintenance_output = Dense(1, activation=\"sigmoid\", name=\"maintenance_output\")(maintenance_output)\n",
        "\n",
        "# Fault Detection and Diagnosis Head (Classification)\n",
        "fault_output = Dense(64, activation=\"relu\")(shared)\n",
        "fault_output = Dense(32, activation=\"relu\")(fault_output)\n",
        "fault_output = Dense(y_fault_train.shape[1], activation=\"softmax\", name=\"fault_output\")(fault_output)\n"
      ],
      "metadata": {
        "id": "8LQT0YNtsUsk"
      },
      "execution_count": 22,
      "outputs": []
    },
    {
      "cell_type": "code",
      "source": [
        "# Combine into a Model\n",
        "model = Model(inputs=input_layer, outputs=[control_output, maintenance_output, fault_output])\n"
      ],
      "metadata": {
        "id": "ZGzwsotosfu6"
      },
      "execution_count": 23,
      "outputs": []
    },
    {
      "cell_type": "code",
      "source": [
        "# Compile the Model\n",
        "model.compile(\n",
        "    optimizer=Adam(learning_rate=0.001),\n",
        "    loss={\n",
        "        \"control_output\": \"mse\",\n",
        "        \"maintenance_output\": \"binary_crossentropy\",\n",
        "        \"fault_output\": \"categorical_crossentropy\"\n",
        "    },\n",
        "    metrics={\n",
        "        \"control_output\": [\"mse\", \"mae\"],\n",
        "        \"maintenance_output\": [\"accuracy\"],\n",
        "        \"fault_output\": [\"accuracy\"]\n",
        "    }\n",
        ")"
      ],
      "metadata": {
        "id": "8J2lucKEsrKT"
      },
      "execution_count": 24,
      "outputs": []
    },
    {
      "cell_type": "code",
      "source": [
        "# Train the Model\n",
        "model.fit(\n",
        "    X_train,\n",
        "    [y_control_train, y_maintenance_train, y_fault_train],\n",
        "    validation_split=0.2,\n",
        "    epochs=10,\n",
        "    batch_size=32\n",
        ")"
      ],
      "metadata": {
        "colab": {
          "base_uri": "https://localhost:8080/"
        },
        "id": "C8-gQYbDstA9",
        "outputId": "42781a38-2538-4db1-9c5b-39cbffa16186"
      },
      "execution_count": 25,
      "outputs": [
        {
          "output_type": "stream",
          "name": "stdout",
          "text": [
            "Epoch 1/10\n"
          ]
        },
        {
          "output_type": "stream",
          "name": "stderr",
          "text": [
            "/usr/local/lib/python3.10/dist-packages/keras/src/losses/losses.py:27: SyntaxWarning: In loss categorical_crossentropy, expected y_pred.shape to be (batch_size, num_classes) with num_classes > 1. Received: y_pred.shape=(None, 1). Consider using 'binary_crossentropy' if you only have 2 classes.\n",
            "  return self.fn(y_true, y_pred, **self._fn_kwargs)\n"
          ]
        },
        {
          "output_type": "stream",
          "name": "stdout",
          "text": [
            "\u001b[1m18/18\u001b[0m \u001b[32m━━━━━━━━━━━━━━━━━━━━\u001b[0m\u001b[37m\u001b[0m \u001b[1m4s\u001b[0m 27ms/step - control_output_loss: 20290.5508 - control_output_mae: 92.6120 - control_output_mse: 20301.5859 - fault_output_accuracy: 0.3035 - fault_output_loss: 0.6890 - loss: 20302.2754 - maintenance_output_accuracy: 0.0000e+00 - maintenance_output_loss: 0.0000e+00 - val_control_output_loss: 22414.4238 - val_control_output_mae: 97.4046 - val_control_output_mse: 22214.7637 - val_fault_output_accuracy: 0.4357 - val_fault_output_loss: 0.6497 - val_loss: 22215.4160 - val_maintenance_output_accuracy: 0.0000e+00 - val_maintenance_output_loss: 0.0000e+00\n",
            "Epoch 2/10\n",
            "\u001b[1m18/18\u001b[0m \u001b[32m━━━━━━━━━━━━━━━━━━━━\u001b[0m\u001b[37m\u001b[0m \u001b[1m0s\u001b[0m 5ms/step - control_output_loss: 19104.7949 - control_output_mae: 88.7781 - control_output_mse: 19116.5625 - fault_output_accuracy: 0.3349 - fault_output_loss: 0.6467 - loss: 19117.2070 - maintenance_output_accuracy: 0.0000e+00 - maintenance_output_loss: 0.0000e+00 - val_control_output_loss: 20198.5859 - val_control_output_mae: 88.9225 - val_control_output_mse: 19977.9961 - val_fault_output_accuracy: 0.3000 - val_fault_output_loss: 0.6591 - val_loss: 19978.6562 - val_maintenance_output_accuracy: 0.0000e+00 - val_maintenance_output_loss: 0.0000e+00\n",
            "Epoch 3/10\n",
            "\u001b[1m18/18\u001b[0m \u001b[32m━━━━━━━━━━━━━━━━━━━━\u001b[0m\u001b[37m\u001b[0m \u001b[1m0s\u001b[0m 5ms/step - control_output_loss: 18873.3711 - control_output_mae: 86.5117 - control_output_mse: 18904.7793 - fault_output_accuracy: 0.3773 - fault_output_loss: 0.6463 - loss: 18905.4238 - maintenance_output_accuracy: 0.0000e+00 - maintenance_output_loss: 0.0000e+00 - val_control_output_loss: 12625.0674 - val_control_output_mae: 71.0423 - val_control_output_mse: 12348.5371 - val_fault_output_accuracy: 0.3143 - val_fault_output_loss: 0.6466 - val_loss: 12349.1807 - val_maintenance_output_accuracy: 0.0000e+00 - val_maintenance_output_loss: 0.0000e+00\n",
            "Epoch 4/10\n",
            "\u001b[1m18/18\u001b[0m \u001b[32m━━━━━━━━━━━━━━━━━━━━\u001b[0m\u001b[37m\u001b[0m \u001b[1m0s\u001b[0m 6ms/step - control_output_loss: 9694.9961 - control_output_mae: 65.7974 - control_output_mse: 9704.7773 - fault_output_accuracy: 0.3291 - fault_output_loss: 0.6553 - loss: 9705.4326 - maintenance_output_accuracy: 0.0000e+00 - maintenance_output_loss: 0.0000e+00 - val_control_output_loss: 6251.8408 - val_control_output_mae: 57.4436 - val_control_output_mse: 6014.2583 - val_fault_output_accuracy: 0.3143 - val_fault_output_loss: 0.6561 - val_loss: 6014.9087 - val_maintenance_output_accuracy: 0.0000e+00 - val_maintenance_output_loss: 0.0000e+00\n",
            "Epoch 5/10\n",
            "\u001b[1m18/18\u001b[0m \u001b[32m━━━━━━━━━━━━━━━━━━━━\u001b[0m\u001b[37m\u001b[0m \u001b[1m0s\u001b[0m 5ms/step - control_output_loss: 6221.8311 - control_output_mae: 54.6311 - control_output_mse: 6223.0283 - fault_output_accuracy: 0.3809 - fault_output_loss: 0.6432 - loss: 6223.6714 - maintenance_output_accuracy: 0.0000e+00 - maintenance_output_loss: 0.0000e+00 - val_control_output_loss: 6023.5117 - val_control_output_mae: 48.9531 - val_control_output_mse: 5738.2642 - val_fault_output_accuracy: 0.3500 - val_fault_output_loss: 0.6443 - val_loss: 5738.9038 - val_maintenance_output_accuracy: 0.0000e+00 - val_maintenance_output_loss: 0.0000e+00\n",
            "Epoch 6/10\n",
            "\u001b[1m18/18\u001b[0m \u001b[32m━━━━━━━━━━━━━━━━━━━━\u001b[0m\u001b[37m\u001b[0m \u001b[1m0s\u001b[0m 5ms/step - control_output_loss: 5942.7578 - control_output_mae: 50.1287 - control_output_mse: 5941.5444 - fault_output_accuracy: 0.3921 - fault_output_loss: 0.6402 - loss: 5942.1846 - maintenance_output_accuracy: 0.0000e+00 - maintenance_output_loss: 0.0000e+00 - val_control_output_loss: 5969.3350 - val_control_output_mae: 48.4204 - val_control_output_mse: 5694.4443 - val_fault_output_accuracy: 0.3429 - val_fault_output_loss: 0.6475 - val_loss: 5695.0859 - val_maintenance_output_accuracy: 0.0000e+00 - val_maintenance_output_loss: 0.0000e+00\n",
            "Epoch 7/10\n",
            "\u001b[1m18/18\u001b[0m \u001b[32m━━━━━━━━━━━━━━━━━━━━\u001b[0m\u001b[37m\u001b[0m \u001b[1m0s\u001b[0m 5ms/step - control_output_loss: 5717.4165 - control_output_mae: 49.0206 - control_output_mse: 5712.1328 - fault_output_accuracy: 0.3478 - fault_output_loss: 0.6425 - loss: 5712.7759 - maintenance_output_accuracy: 0.0000e+00 - maintenance_output_loss: 0.0000e+00 - val_control_output_loss: 5958.6855 - val_control_output_mae: 48.4839 - val_control_output_mse: 5683.2319 - val_fault_output_accuracy: 0.3143 - val_fault_output_loss: 0.6581 - val_loss: 5683.8882 - val_maintenance_output_accuracy: 0.0000e+00 - val_maintenance_output_loss: 0.0000e+00\n",
            "Epoch 8/10\n",
            "\u001b[1m18/18\u001b[0m \u001b[32m━━━━━━━━━━━━━━━━━━━━\u001b[0m\u001b[37m\u001b[0m \u001b[1m0s\u001b[0m 6ms/step - control_output_loss: 6031.3682 - control_output_mae: 49.9729 - control_output_mse: 6038.7285 - fault_output_accuracy: 0.3356 - fault_output_loss: 0.6395 - loss: 6039.3677 - maintenance_output_accuracy: 0.0000e+00 - maintenance_output_loss: 0.0000e+00 - val_control_output_loss: 5922.4941 - val_control_output_mae: 48.2606 - val_control_output_mse: 5639.7588 - val_fault_output_accuracy: 0.3071 - val_fault_output_loss: 0.6612 - val_loss: 5640.4199 - val_maintenance_output_accuracy: 0.0000e+00 - val_maintenance_output_loss: 0.0000e+00\n",
            "Epoch 9/10\n",
            "\u001b[1m18/18\u001b[0m \u001b[32m━━━━━━━━━━━━━━━━━━━━\u001b[0m\u001b[37m\u001b[0m \u001b[1m0s\u001b[0m 6ms/step - control_output_loss: 5674.4644 - control_output_mae: 48.5036 - control_output_mse: 5683.3022 - fault_output_accuracy: 0.3897 - fault_output_loss: 0.6354 - loss: 5683.9375 - maintenance_output_accuracy: 0.0000e+00 - maintenance_output_loss: 0.0000e+00 - val_control_output_loss: 5909.2754 - val_control_output_mae: 48.2645 - val_control_output_mse: 5621.4927 - val_fault_output_accuracy: 0.3786 - val_fault_output_loss: 0.6446 - val_loss: 5622.1348 - val_maintenance_output_accuracy: 0.0000e+00 - val_maintenance_output_loss: 0.0000e+00\n",
            "Epoch 10/10\n",
            "\u001b[1m18/18\u001b[0m \u001b[32m━━━━━━━━━━━━━━━━━━━━\u001b[0m\u001b[37m\u001b[0m \u001b[1m0s\u001b[0m 8ms/step - control_output_loss: 5863.9736 - control_output_mae: 49.0791 - control_output_mse: 5860.8154 - fault_output_accuracy: 0.3680 - fault_output_loss: 0.6437 - loss: 5861.4595 - maintenance_output_accuracy: 0.0000e+00 - maintenance_output_loss: 0.0000e+00 - val_control_output_loss: 5912.6270 - val_control_output_mae: 48.3181 - val_control_output_mse: 5627.1558 - val_fault_output_accuracy: 0.3286 - val_fault_output_loss: 0.6460 - val_loss: 5627.7954 - val_maintenance_output_accuracy: 0.0000e+00 - val_maintenance_output_loss: 0.0000e+00\n"
          ]
        },
        {
          "output_type": "execute_result",
          "data": {
            "text/plain": [
              "<keras.src.callbacks.history.History at 0x7c8e5dedac50>"
            ]
          },
          "metadata": {},
          "execution_count": 25
        }
      ]
    },
    {
      "cell_type": "code",
      "source": [
        "# Make Predictions\n",
        "test_predictions = model.predict(X_test)\n"
      ],
      "metadata": {
        "colab": {
          "base_uri": "https://localhost:8080/"
        },
        "id": "tfHAy9RNssyq",
        "outputId": "c7f2717b-d2b3-4bab-df09-b30f0d81b57c"
      },
      "execution_count": 26,
      "outputs": [
        {
          "output_type": "stream",
          "name": "stdout",
          "text": [
            "\u001b[1m6/6\u001b[0m \u001b[32m━━━━━━━━━━━━━━━━━━━━\u001b[0m\u001b[37m\u001b[0m \u001b[1m0s\u001b[0m 21ms/step\n"
          ]
        }
      ]
    },
    {
      "cell_type": "code",
      "source": [
        "# Calculate Final Accuracies\n",
        "# Control Task (Regression Metrics)\n",
        "control_mse = mean_squared_error(y_control_test, test_predictions[0])\n",
        "control_mae = mean_absolute_error(y_control_test, test_predictions[0])\n",
        "print(f\"Control Task - MSE: {control_mse:.2f}, MAE: {control_mae:.2f}\")\n",
        "\n",
        "# Maintenance Task (Binary Classification Accuracy)\n",
        "# Convert continuous failure probability to binary labels\n",
        "maintenance_preds = (test_predictions[1] > 0.5).astype(int)  # Convert probabilities to binary labels\n",
        "y_maintenance_test_binary = (y_maintenance_test > 0.5).astype(int)  # Convert the ground truth to binary labels\n",
        "maintenance_accuracy = accuracy_score(y_maintenance_test_binary, maintenance_preds)\n",
        "print(f\"Maintenance Task - Accuracy: {maintenance_accuracy:.2f}\")\n",
        "\n",
        "# Fault Detection Task (Multi-Class Classification Accuracy)\n",
        "fault_preds = np.argmax(test_predictions[2], axis=1)  # Convert probabilities to class labels\n",
        "fault_true = np.argmax(y_fault_test, axis=1)\n",
        "fault_accuracy = accuracy_score(fault_true, fault_preds)\n",
        "print(f\"Fault Detection Task - Accuracy: {fault_accuracy:.2f}\")\n",
        "\n",
        "# Overall Average Accuracy (Optional)\n",
        "average_accuracy = (maintenance_accuracy + fault_accuracy) / 2  # Only classification tasks averaged\n",
        "print(f\"Overall Average Classification Accuracy: {average_accuracy:.2f}\")"
      ],
      "metadata": {
        "colab": {
          "base_uri": "https://localhost:8080/"
        },
        "id": "ikz9Uoy3s2SE",
        "outputId": "26c6af9f-b84f-49a7-c133-79dcacdd2dd8"
      },
      "execution_count": 27,
      "outputs": [
        {
          "output_type": "stream",
          "name": "stdout",
          "text": [
            "Control Task - MSE: 5934.27, MAE: 49.17\n",
            "Maintenance Task - Accuracy: 0.53\n",
            "Fault Detection Task - Accuracy: 0.39\n",
            "Overall Average Classification Accuracy: 0.46\n"
          ]
        }
      ]
    },
    {
      "cell_type": "code",
      "source": [
        "# Plot Graphs\n",
        "# Real-Time Control Predictions (Wind Speed and Direction)\n",
        "plt.figure(figsize=(5, 3))\n",
        "# Assign the control output predictions to predicted_control\n",
        "predicted_control = test_predictions[0]  # Assuming test_predictions[0] contains control output\n",
        "plt.plot(predicted_control[:50, 0], label=\"Predicted Wind Speed\")\n",
        "plt.plot(predicted_control[:50, 1], label=\"Predicted Wind Direction\")\n",
        "plt.title(\"Real-Time Control Predictions (First 50 Samples)\")\n",
        "plt.xlabel(\"Sample Index\")\n",
        "plt.ylabel(\"Values\")\n",
        "plt.legend()\n",
        "plt.grid(True)\n",
        "plt.show()"
      ],
      "metadata": {
        "colab": {
          "base_uri": "https://localhost:8080/",
          "height": 333
        },
        "id": "ZKI6sYJtz3BS",
        "outputId": "ae44fbeb-6bc1-4870-a7ab-083c69d0fa2d"
      },
      "execution_count": 28,
      "outputs": [
        {
          "output_type": "display_data",
          "data": {
            "text/plain": [
              "<Figure size 500x300 with 1 Axes>"
            ],
            "image/png": "[encoded data removed]"
          },
          "metadata": {}
        }
      ]
    },
    {
      "cell_type": "code",
      "source": [
        "# Predictive Maintenance (Failure Probability)\n",
        "plt.figure(figsize=(5, 3))\n",
        "plt.plot(predicted_maintenance[:50], label=\"Predicted Failure Probability\")\n",
        "plt.title(\"Predictive Maintenance Predictions (First 50 Samples)\")\n",
        "plt.xlabel(\"Sample Index\")\n",
        "plt.ylabel(\"Failure Probability\")\n",
        "plt.legend()\n",
        "plt.grid(True)\n",
        "plt.show()\n"
      ],
      "metadata": {
        "colab": {
          "base_uri": "https://localhost:8080/",
          "height": 238
        },
        "id": "OXbvcleAz21n",
        "outputId": "0259bc2f-2af0-483b-9404-8e97c41ae19a"
      },
      "execution_count": 29,
      "outputs": [
        {
          "output_type": "error",
          "ename": "NameError",
          "evalue": "name 'predicted_maintenance' is not defined",
          "traceback": [
            "\u001b[0;31m---------------------------------------------------------------------------\u001b[0m",
            "\u001b[0;31mNameError\u001b[0m                                 Traceback (most recent call last)",
            "\u001b[0;32m<ipython-input-29-28100d74d016>\u001b[0m in \u001b[0;36m<cell line: 3>\u001b[0;34m()\u001b[0m\n\u001b[1;32m      1\u001b[0m \u001b[0;31m# Predictive Maintenance (Failure Probability)\u001b[0m\u001b[0;34m\u001b[0m\u001b[0;34m\u001b[0m\u001b[0m\n\u001b[1;32m      2\u001b[0m \u001b[0mplt\u001b[0m\u001b[0;34m.\u001b[0m\u001b[0mfigure\u001b[0m\u001b[0;34m(\u001b[0m\u001b[0mfigsize\u001b[0m\u001b[0;34m=\u001b[0m\u001b[0;34m(\u001b[0m\u001b[0;36m5\u001b[0m\u001b[0;34m,\u001b[0m \u001b[0;36m3\u001b[0m\u001b[0;34m)\u001b[0m\u001b[0;34m)\u001b[0m\u001b[0;34m\u001b[0m\u001b[0;34m\u001b[0m\u001b[0m\n\u001b[0;32m----> 3\u001b[0;31m \u001b[0mplt\u001b[0m\u001b[0;34m.\u001b[0m\u001b[0mplot\u001b[0m\u001b[0;34m(\u001b[0m\u001b[0mpredicted_maintenance\u001b[0m\u001b[0;34m[\u001b[0m\u001b[0;34m:\u001b[0m\u001b[0;36m50\u001b[0m\u001b[0;34m]\u001b[0m\u001b[0;34m,\u001b[0m \u001b[0mlabel\u001b[0m\u001b[0;34m=\u001b[0m\u001b[0;34m\"Predicted Failure Probability\"\u001b[0m\u001b[0;34m)\u001b[0m\u001b[0;34m\u001b[0m\u001b[0;34m\u001b[0m\u001b[0m\n\u001b[0m\u001b[1;32m      4\u001b[0m \u001b[0mplt\u001b[0m\u001b[0;34m.\u001b[0m\u001b[0mtitle\u001b[0m\u001b[0;34m(\u001b[0m\u001b[0;34m\"Predictive Maintenance Predictions (First 50 Samples)\"\u001b[0m\u001b[0;34m)\u001b[0m\u001b[0;34m\u001b[0m\u001b[0;34m\u001b[0m\u001b[0m\n\u001b[1;32m      5\u001b[0m \u001b[0mplt\u001b[0m\u001b[0;34m.\u001b[0m\u001b[0mxlabel\u001b[0m\u001b[0;34m(\u001b[0m\u001b[0;34m\"Sample Index\"\u001b[0m\u001b[0;34m)\u001b[0m\u001b[0;34m\u001b[0m\u001b[0;34m\u001b[0m\u001b[0m\n",
            "\u001b[0;31mNameError\u001b[0m: name 'predicted_maintenance' is not defined"
          ]
        },
        {
          "output_type": "display_data",
          "data": {
            "text/plain": [
              "<Figure size 500x300 with 0 Axes>"
            ]
          },
          "metadata": {}
        }
      ]
    },
    {
      "cell_type": "code",
      "source": [
        "# Fault Detection Predictions\n",
        "plt.figure(figsize=(5, 3))\n",
        "for class_idx in range(predicted_fault.shape[1]):\n",
        "    plt.plot(predicted_fault[:50, class_idx], label=f\"Fault Class {class_idx}\")\n",
        "plt.title(\"Fault Detection Predictions (First 50 Samples)\")\n",
        "plt.xlabel(\"Sample Index\")\n",
        "plt.ylabel(\"Class Probabilities\")\n",
        "plt.legend()\n",
        "plt.grid(True)\n",
        "plt.show()"
      ],
      "metadata": {
        "id": "9y09PfyyyWtu"
      },
      "execution_count": null,
      "outputs": []
    }
  ]
}